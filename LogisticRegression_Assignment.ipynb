#Logisic Regression
#Atoany Fierro
#Clasificar alumnos como aprobados y reprobados

#Librerias
from matplotlib import pyplot as plt
from sklearn.linear_model import LogisticRegression
from sklearn.model_selection import train_test_split
import numpy as np
%matplotlib inline
import matplotlib.pyplot as plt

#Loading files from GoogleDrive
from google.colab import drive
drive.mount('/content/gdrive');

#Carga de la base de datos
#read_col: nombre de la función
#fnam: nombre del archivo de texto
#col: número de la columna que se desea leer
def read_col(fname, col, convert=float, sep=None):
    with open(fname) as fobj:
         return [convert(line.split(sep=sep)[col]) for line in fobj]

#Obtención de los datos
#Realizar programación para leer las tres columnas del archivo txt
#Columna 1: calificaciones del primer examen
#Columna 2: calificaciones del segundo examen
#Columna 3: aprobado o rechazado (0, 1)
#INSERTA TU CÓDIGO AQUI--------------------------------------------------------
x1 = None 
x2 = None
y = None
#FIN DE TU CÓDIGO--------------------------------------------------------------

#Formateo de datos para entrenamiento
x = [x1, x2]
x = np.transpose(x)

arreglo = np.asarray([y])
arreglo.astype(int)

colores = []
colores.append('red')  #aspirante rechazado
colores.append('green') #aspirante admitido

#Visualización de los datos
fig = plt.figure()
ax = fig.add_subplot(111)
for i in range(1,100):
  ax.scatter(x[i,0], x[i,1], color = colores[int(arreglo[0,i])])

ax.set(title="Resulatado de alumnos", xlabel="Calificación primer examen", ylabel="Calificación segundo examen")

x_train, x_test, y_train, y_test = train_test_split(x, y, random_state=1)

#Creacion de la instancia de LogisticRegression
#Crea la instancia de regresión logística
#INSERTA TU CÓDIGO AQUI--------------------------------------------------------
lr = None
#FIN DE TU CÓDIGO--------------------------------------------------------------

#Entrenamiento
#Comienza el entrenamiento llando haciendo uso de .fit
#Uso de .fit:
# lr.fit(training, testing)
#INSERTA TU CÓDIGO AQUI--------------------------------------------------------

#FIN DE TU CÓDIGO--------------------------------------------------------------

#Prediccion
x_prueba = [(10,90)];
y_pred = lr.predict(x_prueba)

resultado=[]
resultado.append("Rechazado")
resultado.append("Admitido")

print("====================================================")
print("El alumno con notas: ")
print(x_prueba[0][0])
print(x_prueba[0][1])
print("Será: ")
print(resultado[int(y_pred[0])])

#Resultado esperado:
#El alumno con notas: 
#10
#90
#Será: 
#Rechazado
